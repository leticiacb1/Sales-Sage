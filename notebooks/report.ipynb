{
 "cells": [
  {
   "cell_type": "markdown",
   "id": "9b2b6d64-5d53-43b5-9795-e34f2a184baf",
   "metadata": {},
   "source": [
    "### 🛒 Sales Sage\n",
    "\n",
    "This project focuses on developing a machine learning model designed to predict the total sales for individual stores on a daily basis."
   ]
  },
  {
   "cell_type": "markdown",
   "id": "9e4663b7-0c4b-42f1-b5f1-3a800aa7dcef",
   "metadata": {},
   "source": [
    "---\n",
    "### Importing libs\n",
    "---"
   ]
  },
  {
   "cell_type": "code",
   "execution_count": 16,
   "id": "95298839-86dd-4c74-b68e-6ac57c935f18",
   "metadata": {},
   "outputs": [],
   "source": [
    "import sys\n",
    "\n",
    "import pandas as pd\n",
    "\n",
    "import matplotlib.pyplot as plt\n",
    "import seaborn as sns\n",
    "\n",
    "import missingno as msno\n",
    "\n",
    "from sklearn.metrics import mean_squared_error, mean_absolute_error\n",
    "from sklearn.metrics import r2_score\n",
    "\n",
    "sys.path.insert(0, '../')\n",
    "\n",
    "from src.proccess.processor import DataProcessor\n",
    "from src.predict.predictor import ModelPredictor\n",
    "from src.train.trainer import ModelTrainer"
   ]
  },
  {
   "cell_type": "markdown",
   "id": "e2301730-401e-437e-95aa-52ec837fbb41",
   "metadata": {},
   "source": [
    "---\n",
    "### Generate Train Data\n",
    "---"
   ]
  },
  {
   "cell_type": "code",
   "execution_count": 2,
   "id": "af14c1c9-76f8-4e79-b578-9c99df9db658",
   "metadata": {},
   "outputs": [
    {
     "name": "stdout",
     "output_type": "stream",
     "text": [
      "Simulate data ingestion!\n",
      "Saving to ../data/train-2023-08-01.csv file...\n"
     ]
    }
   ],
   "source": [
    "!python3 ../src/get_data.py 2022 01 01 2023 08 01 train"
   ]
  },
  {
   "cell_type": "markdown",
   "id": "85827c55-c526-43c7-90ec-b2c8b0a2b988",
   "metadata": {},
   "source": [
    "---\n",
    "### PreProccess Data\n",
    "---"
   ]
  },
  {
   "cell_type": "code",
   "execution_count": 3,
   "id": "e27a40ca-c325-475f-872e-2bc5f6f1ebd0",
   "metadata": {},
   "outputs": [
    {
     "name": "stdout",
     "output_type": "stream",
     "text": [
      "\n",
      "    [INFO] Reading data ...\n",
      "\n",
      "    [INFO] Creating DataProcessor() ...\n",
      "\n",
      "    [INFO] Actual data ...\n",
      "\n",
      "        store_id        date  client_id  product_id       price\n",
      "148999      5003  2022-09-06     180767        1032  227.897436\n",
      "18356       5000  2022-06-02     284139        1242  331.629317\n",
      "254136      5004  2022-05-31     154635        1709  435.382437\n",
      "57010       5000  2023-05-05     389714        1223  348.823613\n",
      "17605       5000  2022-05-28     134995        1630  342.627398 ...\n",
      "\n",
      "    [INFO] Create total sales column ...\n",
      "\n",
      "    [INFO] Actual data ...\n",
      "\n",
      "            date  store_id   total_sales\n",
      "1106  2022-07-04      5002  10417.842752\n",
      "1713  2022-10-13      5003  66357.056058\n",
      "50    2022-01-09      5002  11239.542293\n",
      "474   2022-03-21      5000  35715.739790\n",
      "3399  2023-07-21      5003  40929.499838 ...\n",
      "\n",
      "    [INFO] Create weekday column ...\n",
      "\n",
      "    [INFO] Actual data ...\n",
      "\n",
      "            date  store_id   total_sales  weekday\n",
      "430   2022-03-13      5004  79268.367916        6\n",
      "823   2022-05-18      5001   5427.206705        2\n",
      "3200  2023-06-18      5002   8799.687875        6\n",
      "452   2022-03-17      5002   8040.815935        3\n",
      "108   2022-01-19      5000  33603.179544        2 ...\n",
      "\n",
      "    [INFO] Create day, month , year columns ...\n",
      "\n",
      "    [INFO] Actual data ...\n",
      "\n",
      "            date  store_id   total_sales  weekday  day  month  year\n",
      "269   2022-02-14      5005  42574.260420        0   14      2  2022\n",
      "2965  2023-05-10      5001   5437.374967        2   10      5  2023\n",
      "1992  2022-11-29      5000  31460.291675        1   29     11  2022\n",
      "1381  2022-08-19      5001   4014.465199        4   19      8  2022\n",
      "3219  2023-06-21      5003  43086.682190        2   21      6  2023 ...\n",
      "\n",
      "    [INFO] Drop column date ...\n",
      "\n",
      "    [INFO] Actual data ...\n",
      "\n",
      "      store_id    total_sales  weekday  day  month  year\n",
      "26        5002   10021.769196        2    5      1  2022\n",
      "3244      5004  100337.103643        6   25      6  2023\n",
      "2163      5003   72996.460199        1   27     12  2022\n",
      "1511      5005   45341.012651        4    9      9  2022\n",
      "1983      5003   45112.551000        6   27     11  2022 ...\n",
      "\n",
      "    [INFO] Reorder columns ...\n",
      "\n",
      "    [INFO] Actual data ...\n",
      "\n",
      "      store_id  year  month  day  weekday   total_sales\n",
      "2539      5001  2023      2   28        1   5978.614254\n",
      "2995      5001  2023      5   15        0   8552.104677\n",
      "3029      5005  2023      5   20        5  60486.192882\n",
      "1683      5003  2022     10    8        5  46527.173623\n",
      "3062      5002  2023      5   26        4  11536.730251 ...\n",
      "\n",
      "    [INFO] Saving processed data in ../data/train-2023-08-01.parquet ... \n",
      "\n"
     ]
    }
   ],
   "source": [
    "!python3 ../src/proccess/processor.py ../data/train-2023-08-01.csv"
   ]
  },
  {
   "cell_type": "markdown",
   "id": "68cac86b-c516-4137-b4a9-fb67810ecf30",
   "metadata": {},
   "source": [
    "---\n",
    "### Model\n",
    "---"
   ]
  },
  {
   "cell_type": "code",
   "execution_count": 4,
   "id": "2c7acf86-a9e2-4af7-a79a-6e7c08f37592",
   "metadata": {},
   "outputs": [
    {
     "name": "stdout",
     "output_type": "stream",
     "text": [
      "\n",
      "    [INFO] Reading processed data ...\n",
      "\n",
      "    [INFO] Creating ModelTrainer() ...\n",
      "\n",
      "    [INFO] Prepare data for training ...\n",
      "\n",
      "    [INFO] Start training ...\n",
      "\n",
      "------------------------------ \n",
      "\n",
      " ------- Model Trainer ------- \n",
      "\n",
      "------------------------------ \n",
      "\n",
      "    [MODEL]\n",
      "    RandomForestRegressor(random_state=195)\n",
      "\n",
      "    [X__train] \n",
      "       store_id  year  month  day  weekday\n",
      "963       5003  2022      6   10        4\n",
      "94        5004  2022      1   16        6\n",
      "2654      5002  2023      3   19        6\n",
      "928       5004  2022      6    4        5\n",
      "2177      5005  2022     12   29        3\n",
      "...        ...   ...    ...  ...      ...\n",
      "2342      5002  2023      1   26        3\n",
      "3025      5001  2023      5   20        5\n",
      "1103      5005  2022      7    3        6\n",
      "3104      5002  2023      6    2        4\n",
      "1787      5005  2022     10   25        1\n",
      "\n",
      "[2427 rows x 5 columns]\n",
      "\n",
      "    [Y__train] \n",
      " 963      46134.181142\n",
      "94      101000.197613\n",
      "2654     11615.895924\n",
      "928      59545.653710\n",
      "2177     70307.720174\n",
      "            ...      \n",
      "2342     10459.644469\n",
      "3025      3893.892466\n",
      "1103     83620.954355\n",
      "3104     11192.589288\n",
      "1787     49736.747749\n",
      "Name: total_sales, Length: 2427, dtype: float64\n",
      "\n",
      "    [X_test] \n",
      "       store_id  year  month  day  weekday\n",
      "2267      5005  2023      1   13        4\n",
      "1706      5002  2022     10   12        2\n",
      "2618      5002  2023      3   13        0\n",
      "667       5001  2022      4   22        4\n",
      "1659      5003  2022     10    4        1\n",
      "...        ...   ...    ...  ...      ...\n",
      "530       5002  2022      3   30        2\n",
      "1489      5001  2022      9    6        1\n",
      "2217      5003  2023      1    5        3\n",
      "3100      5004  2023      6    1        3\n",
      "97        5001  2022      1   17        0\n",
      "\n",
      "[1041 rows x 5 columns]\n",
      "\n",
      "    [Y_test] \n",
      " 2267    42750.090879\n",
      "1706    15517.943253\n",
      "2618    11189.188979\n",
      "667      4046.958252\n",
      "1659    72845.806135\n",
      "            ...     \n",
      "530      8890.606924\n",
      "1489     4496.068956\n",
      "2217    69552.054702\n",
      "3100    57322.734212\n",
      "97      10029.122404\n",
      "Name: total_sales, Length: 1041, dtype: float64\n",
      "\n",
      "\n",
      " ------------------------------ \n",
      "\n",
      "\n",
      "    [INFO] Saving model in ../models/model-2023-08-01.pkl ... \n",
      "\n"
     ]
    }
   ],
   "source": [
    "!python3 ../src/train/trainer.py ../data/train-2023-08-01.parquet"
   ]
  },
  {
   "cell_type": "markdown",
   "id": "2f7dd26b-b2e3-4755-8bfa-b04bc5547fd9",
   "metadata": {},
   "source": [
    "---\n",
    "### Generate new data for prediction\n",
    "---"
   ]
  },
  {
   "cell_type": "code",
   "execution_count": 5,
   "id": "060e555b-7545-45f6-868b-a823ddaa718d",
   "metadata": {},
   "outputs": [
    {
     "name": "stdout",
     "output_type": "stream",
     "text": [
      "Simulate data ingestion!\n",
      "Saving to ../data/predict-2023-08-03.parquet file...\n"
     ]
    }
   ],
   "source": [
    "!python3 ../src/get_data.py 2023 08 02 2023 08 03 predict"
   ]
  },
  {
   "cell_type": "markdown",
   "id": "222cb20e-c7ae-4ff1-9d8a-c21e69432de0",
   "metadata": {},
   "source": [
    "---\n",
    "### Predict and Model Evaluation\n",
    "---"
   ]
  },
  {
   "cell_type": "code",
   "execution_count": 6,
   "id": "93bf6211-9ad6-4641-ba12-03cece483874",
   "metadata": {},
   "outputs": [
    {
     "name": "stdout",
     "output_type": "stream",
     "text": [
      "\n",
      "    [INFO] Reading new data ...\n",
      "\n",
      "    [INFO] Creating ModelPredictor() ...\n",
      "\n",
      "    [INFO] Read model ...\n",
      "\n",
      "    [INFO] Make prediction ...\n",
      "\n",
      "    [INFO] Predict value : \n",
      "\n",
      "[32009.92344386 32379.64315132  5130.99840417  4696.47413702\n",
      "  9330.00200726  9706.85479706 43137.65076984 73424.11946406\n",
      " 57536.13412892 57127.49738927 44582.02266862 44984.14493023] \n",
      "\n"
     ]
    }
   ],
   "source": [
    "!python3 ../src/predict/predictor.py ../models/model-2023-08-01.pkl ../data/predict-2023-08-03.parquet"
   ]
  },
  {
   "cell_type": "markdown",
   "id": "ea7d53f7-9067-40d3-bad0-e588584fd1f8",
   "metadata": {},
   "source": [
    "#### Evaluate Model"
   ]
  },
  {
   "cell_type": "code",
   "execution_count": 7,
   "id": "3400cd61-696c-4075-9063-bf0043d04ff7",
   "metadata": {},
   "outputs": [
    {
     "name": "stdout",
     "output_type": "stream",
     "text": [
      "Simulate data ingestion!\n",
      "Saving to ../data/train-2023-09-01.csv file...\n"
     ]
    }
   ],
   "source": [
    "!python3 ../src/get_data.py 2022 01 01 2023 09 01 train"
   ]
  },
  {
   "cell_type": "code",
   "execution_count": 8,
   "id": "5ec1c235-6daf-4dc2-b614-6f87084101e0",
   "metadata": {},
   "outputs": [
    {
     "data": {
      "text/html": [
       "<div>\n",
       "<style scoped>\n",
       "    .dataframe tbody tr th:only-of-type {\n",
       "        vertical-align: middle;\n",
       "    }\n",
       "\n",
       "    .dataframe tbody tr th {\n",
       "        vertical-align: top;\n",
       "    }\n",
       "\n",
       "    .dataframe thead th {\n",
       "        text-align: right;\n",
       "    }\n",
       "</style>\n",
       "<table border=\"1\" class=\"dataframe\">\n",
       "  <thead>\n",
       "    <tr style=\"text-align: right;\">\n",
       "      <th></th>\n",
       "      <th>store_id</th>\n",
       "      <th>date</th>\n",
       "      <th>client_id</th>\n",
       "      <th>product_id</th>\n",
       "      <th>price</th>\n",
       "    </tr>\n",
       "  </thead>\n",
       "  <tbody>\n",
       "    <tr>\n",
       "      <th>365571</th>\n",
       "      <td>5005</td>\n",
       "      <td>2022-09-26</td>\n",
       "      <td>272754</td>\n",
       "      <td>2049</td>\n",
       "      <td>881.209909</td>\n",
       "    </tr>\n",
       "    <tr>\n",
       "      <th>189465</th>\n",
       "      <td>5003</td>\n",
       "      <td>2023-02-02</td>\n",
       "      <td>375632</td>\n",
       "      <td>1101</td>\n",
       "      <td>220.534305</td>\n",
       "    </tr>\n",
       "    <tr>\n",
       "      <th>330132</th>\n",
       "      <td>5004</td>\n",
       "      <td>2023-05-06</td>\n",
       "      <td>362917</td>\n",
       "      <td>2867</td>\n",
       "      <td>410.588858</td>\n",
       "    </tr>\n",
       "  </tbody>\n",
       "</table>\n",
       "</div>"
      ],
      "text/plain": [
       "        store_id        date  client_id  product_id       price\n",
       "365571      5005  2022-09-26     272754        2049  881.209909\n",
       "189465      5003  2023-02-02     375632        1101  220.534305\n",
       "330132      5004  2023-05-06     362917        2867  410.588858"
      ]
     },
     "execution_count": 8,
     "metadata": {},
     "output_type": "execute_result"
    }
   ],
   "source": [
    "df = pd.read_csv(\"../data/train-2023-09-01.csv\")\n",
    "df.sample(3)"
   ]
  },
  {
   "cell_type": "code",
   "execution_count": 9,
   "id": "10bf2149-d173-4340-8963-1bef3053d374",
   "metadata": {},
   "outputs": [
    {
     "data": {
      "text/html": [
       "<div>\n",
       "<style scoped>\n",
       "    .dataframe tbody tr th:only-of-type {\n",
       "        vertical-align: middle;\n",
       "    }\n",
       "\n",
       "    .dataframe tbody tr th {\n",
       "        vertical-align: top;\n",
       "    }\n",
       "\n",
       "    .dataframe thead th {\n",
       "        text-align: right;\n",
       "    }\n",
       "</style>\n",
       "<table border=\"1\" class=\"dataframe\">\n",
       "  <thead>\n",
       "    <tr style=\"text-align: right;\">\n",
       "      <th></th>\n",
       "      <th>store_id</th>\n",
       "      <th>year</th>\n",
       "      <th>month</th>\n",
       "      <th>day</th>\n",
       "      <th>weekday</th>\n",
       "      <th>total_sales</th>\n",
       "    </tr>\n",
       "  </thead>\n",
       "  <tbody>\n",
       "    <tr>\n",
       "      <th>2731</th>\n",
       "      <td>5001</td>\n",
       "      <td>2023</td>\n",
       "      <td>4</td>\n",
       "      <td>1</td>\n",
       "      <td>5</td>\n",
       "      <td>2997.241082</td>\n",
       "    </tr>\n",
       "    <tr>\n",
       "      <th>2319</th>\n",
       "      <td>5003</td>\n",
       "      <td>2023</td>\n",
       "      <td>1</td>\n",
       "      <td>22</td>\n",
       "      <td>6</td>\n",
       "      <td>44476.351196</td>\n",
       "    </tr>\n",
       "    <tr>\n",
       "      <th>3085</th>\n",
       "      <td>5001</td>\n",
       "      <td>2023</td>\n",
       "      <td>5</td>\n",
       "      <td>30</td>\n",
       "      <td>1</td>\n",
       "      <td>5538.151288</td>\n",
       "    </tr>\n",
       "  </tbody>\n",
       "</table>\n",
       "</div>"
      ],
      "text/plain": [
       "      store_id  year  month  day  weekday   total_sales\n",
       "2731      5001  2023      4    1        5   2997.241082\n",
       "2319      5003  2023      1   22        6  44476.351196\n",
       "3085      5001  2023      5   30        1   5538.151288"
      ]
     },
     "execution_count": 9,
     "metadata": {},
     "output_type": "execute_result"
    }
   ],
   "source": [
    "# Process data recived\n",
    "processor = DataProcessor(df)\n",
    "processor.create_total_sales_column()\n",
    "processor.create_weekday_column()\n",
    "processor.create_day_month_year_columns()\n",
    "processor.remove_columns(column_name=\"date\")\n",
    "processor.reorder_columns(column_order=['store_id', 'year', 'month', 'day', 'weekday', 'total_sales'])\n",
    "\n",
    "processed_df = processor.get_data()\n",
    "processed_df.sample(3)"
   ]
  },
  {
   "cell_type": "code",
   "execution_count": 10,
   "id": "882f693c-42e0-4200-acd8-9de9c9ed076e",
   "metadata": {},
   "outputs": [],
   "source": [
    "# Train model\n",
    "trainer = ModelTrainer(processed_df)\n",
    "trainer.prepare_data()\n",
    "trainer.train_model()\n",
    "trainer.save_model(\"../models/model-2023-09-01.pkl\")\n",
    "\n",
    "X_train, Y_train, X_test, Y_test = trainer.get_split_data()"
   ]
  },
  {
   "cell_type": "code",
   "execution_count": 11,
   "id": "0d57c88f-ca57-49be-a857-334776a05c4f",
   "metadata": {},
   "outputs": [],
   "source": [
    "# Predict value\n",
    "predictor = ModelPredictor()\n",
    "predictor.read_model(\"../models/model-2023-09-01.pkl\")\n",
    "predictor.predict(X_test)\n",
    "Y_predict = predictor.get_y_prediction()"
   ]
  },
  {
   "cell_type": "code",
   "execution_count": 17,
   "id": "4db590c7-f5a3-42f5-842b-1bbcab793418",
   "metadata": {},
   "outputs": [
    {
     "name": "stdout",
     "output_type": "stream",
     "text": [
      "Mean Squared Error: 31011535.85\n",
      "Mean Absolute Error: 3764.44\n",
      "R-Squared: 0.96\n"
     ]
    }
   ],
   "source": [
    "mse = mean_squared_error(Y_test, Y_predict)\n",
    "mae = mean_absolute_error(Y_test, Y_predict)\n",
    "r2 = r2_score(Y_test, Y_predict)\n",
    "\n",
    "print(f\"Mean Squared Error: {mse:.2f}\")\n",
    "print(f\"Mean Absolute Error: {mae:.2f}\")\n",
    "print(f\"R-Squared: {r2:.2f}\")"
   ]
  }
 ],
 "metadata": {
  "kernelspec": {
   "display_name": "Python 3 (ipykernel)",
   "language": "python",
   "name": "python3"
  },
  "language_info": {
   "codemirror_mode": {
    "name": "ipython",
    "version": 3
   },
   "file_extension": ".py",
   "mimetype": "text/x-python",
   "name": "python",
   "nbconvert_exporter": "python",
   "pygments_lexer": "ipython3",
   "version": "3.10.12"
  }
 },
 "nbformat": 4,
 "nbformat_minor": 5
}
